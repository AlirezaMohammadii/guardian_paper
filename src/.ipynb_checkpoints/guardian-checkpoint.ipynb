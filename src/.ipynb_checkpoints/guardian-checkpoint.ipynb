{
 "cells": [
  {
   "cell_type": "code",
   "execution_count": 1,
   "metadata": {},
   "outputs": [],
   "source": [
    "import pandas as pd\n",
    "from sklearn.model_selection  import train_test_split\n",
    "from sklearn.neighbors import KNeighborsClassifier\n",
    "from sklearn.metrics import classification_report, confusion_matrix"
   ]
  },
  {
   "cell_type": "code",
   "execution_count": 9,
   "metadata": {
    "tags": [
     "outputPrepend"
    ]
   },
   "outputs": [],
   "source": [
    "data = pd.read_csv(\"../data/guardian/knn_model/1122809848-100_train.csv\")\n",
    "\n",
    "x = data.iloc[:,1:]\n",
    "y = data.iloc[:,0:1].values.ravel()\n",
    "\n",
    "X_train, X_test, y_train, y_test = train_test_split(x, y, test_size = 0.20)"
   ]
  },
  {
   "cell_type": "markdown",
   "metadata": {},
   "source": [
    "## KNN"
   ]
  },
  {
   "cell_type": "markdown",
   "metadata": {},
   "source": [
    "## tarin"
   ]
  },
  {
   "cell_type": "code",
   "execution_count": 10,
   "metadata": {},
   "outputs": [
    {
     "name": "stdout",
     "output_type": "stream",
     "text": [
      "[[5484  106]\n",
      " [  44 5326]]\n",
      "              precision    recall  f1-score   support\n",
      "\n",
      "      attack       0.99      0.98      0.99      5590\n",
      "      normal       0.98      0.99      0.99      5370\n",
      "\n",
      "    accuracy                           0.99     10960\n",
      "   macro avg       0.99      0.99      0.99     10960\n",
      "weighted avg       0.99      0.99      0.99     10960\n",
      "\n"
     ]
    }
   ],
   "source": [
    "n_neighbors = 11\n",
    "neigh = KNeighborsClassifier(n_neighbors, weights='distance')\n",
    "neigh.fit(X_train, y_train)\n",
    "y_pred = neigh.predict(x)\n",
    "print(confusion_matrix(y,y_pred))\n",
    "print(classification_report(y,y_pred))"
   ]
  },
  {
   "cell_type": "markdown",
   "metadata": {},
   "source": [
    "## test"
   ]
  },
  {
   "cell_type": "code",
   "execution_count": 5,
   "metadata": {},
   "outputs": [
    {
     "name": "stdout",
     "output_type": "stream",
     "text": [
      "[[  584     6]\n",
      " [   11 10469]]\n",
      "              precision    recall  f1-score   support\n",
      "\n",
      "      attack       0.98      0.99      0.99       590\n",
      "      normal       1.00      1.00      1.00     10480\n",
      "\n",
      "    accuracy                           1.00     11070\n",
      "   macro avg       0.99      0.99      0.99     11070\n",
      "weighted avg       1.00      1.00      1.00     11070\n",
      "\n"
     ]
    }
   ],
   "source": [
    "data2 = pd.read_csv(\"../data/guardian/knn_model/1122809848-100_test.csv\")\n",
    "\n",
    "# x2 = data2.iloc[:,1:]\n",
    "# y2 = data2.iloc[:,0:1]\n",
    "\n",
    "# y_pred = neigh.predict(x2)\n",
    "# print(confusion_matrix(y2,y_pred))\n",
    "# print(classification_report(y2,y_pred))\n",
    "\n",
    "x2 = data2.iloc[:,1:]\n",
    "y2 = data2.iloc[:,0:1]\n",
    "X_train, X_test, y_train, y_test = train_test_split(x2, y2, test_size = 0.20)\n",
    "\n",
    "# Flatten y_train and y_test using ravel()\n",
    "y_train = y_train.values.ravel()\n",
    "y_test = y_test.values.ravel()\n",
    "\n",
    "n_neighbors = 11\n",
    "neigh = KNeighborsClassifier(n_neighbors, weights='distance')\n",
    "neigh.fit(X_train, y_train)\n",
    "y_pred = neigh.predict(x2)\n",
    "print(confusion_matrix(y2,y_pred))\n",
    "print(classification_report(y2,y_pred))"
   ]
  },
  {
   "cell_type": "code",
   "execution_count": 18,
   "metadata": {},
   "outputs": [
    {
     "name": "stdout",
     "output_type": "stream",
     "text": [
      "[[ 97  13]\n",
      " [  1 389]]\n",
      "              precision    recall  f1-score   support\n",
      "\n",
      "      attack       0.99      0.88      0.93       110\n",
      "      normal       0.97      1.00      0.98       390\n",
      "\n",
      "    accuracy                           0.97       500\n",
      "   macro avg       0.98      0.94      0.96       500\n",
      "weighted avg       0.97      0.97      0.97       500\n",
      "\n"
     ]
    }
   ],
   "source": [
    "# embedding 2_different\n",
    "# data2 = pd.read_csv(\"../data/guardian/knn_model/9121186002-100.csv\")\n",
    "data2 = pd.read_csv(\"../data/guardian/knn_model/5177547033-100.csv\")\n",
    "\n",
    "# x2 = data2.iloc[:,1:]\n",
    "# y2 = data2.iloc[:,0:1]\n",
    "\n",
    "# y_pred = neigh.predict(x2)\n",
    "# print(confusion_matrix(y2,y_pred))\n",
    "# print(classification_report(y2,y_pred))\n",
    "\n",
    "x2 = data2.iloc[:,1:]\n",
    "y2 = data2.iloc[:,0:1]\n",
    "X_train, X_test, y_train, y_test = train_test_split(x2, y2, test_size = 0.20)\n",
    "\n",
    "# Flatten y_train and y_test using ravel()\n",
    "y_train = y_train.values.ravel()\n",
    "y_test = y_test.values.ravel()\n",
    "\n",
    "n_neighbors = 11\n",
    "neigh = KNeighborsClassifier(n_neighbors, weights='distance')\n",
    "neigh.fit(X_train, y_train)\n",
    "y_pred = neigh.predict(x2)\n",
    "print(confusion_matrix(y2,y_pred))\n",
    "print(classification_report(y2,y_pred))"
   ]
  },
  {
   "cell_type": "code",
   "execution_count": 20,
   "metadata": {},
   "outputs": [
    {
     "name": "stdout",
     "output_type": "stream",
     "text": [
      "[[ 63  47]\n",
      " [ 61 329]]\n",
      "              precision    recall  f1-score   support\n",
      "\n",
      "      attack       0.51      0.57      0.54       110\n",
      "      normal       0.88      0.84      0.86       390\n",
      "\n",
      "    accuracy                           0.78       500\n",
      "   macro avg       0.69      0.71      0.70       500\n",
      "weighted avg       0.79      0.78      0.79       500\n",
      "\n"
     ]
    }
   ],
   "source": [
    "# embedding 2_same\n",
    "data2 = pd.read_csv(\"../data/guardian/knn_model/7546747849-100.csv\")\n",
    "\n",
    "x2 = data2.iloc[:,1:]\n",
    "y2 = data2.iloc[:,0:1]\n",
    "\n",
    "y_pred = neigh.predict(x2)\n",
    "print(confusion_matrix(y2,y_pred))\n",
    "print(classification_report(y2,y_pred))\n",
    "\n",
    "# x2 = data2.iloc[:,1:]\n",
    "# y2 = data2.iloc[:,0:1]\n",
    "# X_train, X_test, y_train, y_test = train_test_split(x2, y2, test_size = 0.20)\n",
    "\n",
    "# # Flatten y_train and y_test using ravel()\n",
    "# y_train = y_train.values.ravel()\n",
    "# y_test = y_test.values.ravel()\n",
    "\n",
    "# n_neighbors = 11\n",
    "# neigh = KNeighborsClassifier(n_neighbors, weights='distance')\n",
    "# neigh.fit(X_train, y_train)\n",
    "# y_pred = neigh.predict(x2)\n",
    "# print(confusion_matrix(y2,y_pred))\n",
    "# print(classification_report(y2,y_pred))\n"
   ]
  },
  {
   "cell_type": "code",
   "execution_count": 23,
   "metadata": {},
   "outputs": [
    {
     "name": "stdout",
     "output_type": "stream",
     "text": [
      "[[ 75  35]\n",
      " [ 75 315]]\n",
      "              precision    recall  f1-score   support\n",
      "\n",
      "      attack       0.50      0.68      0.58       110\n",
      "      normal       0.90      0.81      0.85       390\n",
      "\n",
      "    accuracy                           0.78       500\n",
      "   macro avg       0.70      0.74      0.71       500\n",
      "weighted avg       0.81      0.78      0.79       500\n",
      "\n"
     ]
    }
   ],
   "source": [
    "# embedding 2_random\n",
    "data2 = pd.read_csv(\"../data/guardian/knn_model/1987326526-100.csv\")\n",
    "\n",
    "x2 = data2.iloc[:,1:]\n",
    "y2 = data2.iloc[:,0:1]\n",
    "\n",
    "y_pred = neigh.predict(x2)\n",
    "print(confusion_matrix(y2,y_pred))\n",
    "print(classification_report(y2,y_pred))\n",
    "\n",
    "# x2 = data2.iloc[:,1:]\n",
    "# y2 = data2.iloc[:,0:1]\n",
    "# X_train, X_test, y_train, y_test = train_test_split(x2, y2, test_size = 0.20)\n",
    "\n",
    "# # Flatten y_train and y_test using ravel()\n",
    "# y_train = y_train.values.ravel()\n",
    "# y_test = y_test.values.ravel()\n",
    "\n",
    "# n_neighbors = 11\n",
    "# neigh = KNeighborsClassifier(n_neighbors, weights='distance')\n",
    "# neigh.fit(X_train, y_train)\n",
    "# y_pred = neigh.predict(x2)\n",
    "# print(confusion_matrix(y2,y_pred))\n",
    "# print(classification_report(y2,y_pred))"
   ]
  },
  {
   "cell_type": "code",
   "execution_count": 26,
   "metadata": {},
   "outputs": [
    {
     "name": "stdout",
     "output_type": "stream",
     "text": [
      "[[ 51  59]\n",
      " [  2 388]]\n",
      "              precision    recall  f1-score   support\n",
      "\n",
      "      attack       0.96      0.46      0.63       110\n",
      "      normal       0.87      0.99      0.93       390\n",
      "\n",
      "    accuracy                           0.88       500\n",
      "   macro avg       0.92      0.73      0.78       500\n",
      "weighted avg       0.89      0.88      0.86       500\n",
      "\n"
     ]
    }
   ],
   "source": [
    "# embedding unbalanced\n",
    "data_unbalanced = pd.read_csv(\"../data/guardian/knn_model/2037105578-100.csv\")\n",
    "\n",
    "x2 = data_unbalanced.iloc[:,1:]\n",
    "y2 = data_unbalanced.iloc[:,0:1]\n",
    "\n",
    "y_pred = neigh.predict(x2)\n",
    "print(confusion_matrix(y2,y_pred))\n",
    "print(classification_report(y2,y_pred))\n",
    "\n",
    "\n",
    "# x_un = data_unbalanced.iloc[:,1:]\n",
    "# y_un = data_unbalanced.iloc[:,0:1]\n",
    "# X_train_un, X_test_un, y_train_un, y_test_un = train_test_split(x_un, y_un, test_size = 0.20)\n",
    "\n",
    "# # Flatten y_train and y_test using ravel()\n",
    "# y_train_un = y_train_un.values.ravel()\n",
    "# y_test_un = y_test_un.values.ravel()\n",
    "\n",
    "# n_neighbors = 11\n",
    "# neigh = KNeighborsClassifier(n_neighbors, weights='distance')\n",
    "# neigh.fit(X_train_un, y_train_un)\n",
    "# y_pred_un = neigh.predict(x_un)\n",
    "# print(confusion_matrix(y_un,y_pred_un))\n",
    "# print(classification_report(y_un,y_pred_un))"
   ]
  },
  {
   "cell_type": "code",
   "execution_count": null,
   "metadata": {},
   "outputs": [],
   "source": []
  },
  {
   "cell_type": "code",
   "execution_count": null,
   "metadata": {},
   "outputs": [],
   "source": []
  },
  {
   "cell_type": "code",
   "execution_count": null,
   "metadata": {},
   "outputs": [],
   "source": []
  }
 ],
 "metadata": {
  "interpreter": {
   "hash": "9b12d8e89bfe5f1d9564be7ce6131d8ea317c73289c3e98fd5ea3a30a393c6e1"
  },
  "kernelspec": {
   "display_name": "python310",
   "language": "python",
   "name": "python310"
  },
  "language_info": {
   "codemirror_mode": {
    "name": "ipython",
    "version": 3
   },
   "file_extension": ".py",
   "mimetype": "text/x-python",
   "name": "python",
   "nbconvert_exporter": "python",
   "pygments_lexer": "ipython3",
   "version": "3.10.4"
  }
 },
 "nbformat": 4,
 "nbformat_minor": 4
}

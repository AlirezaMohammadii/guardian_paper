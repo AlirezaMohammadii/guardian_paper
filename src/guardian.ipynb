{
 "cells": [
  {
   "cell_type": "code",
   "execution_count": 1,
   "metadata": {},
   "outputs": [],
   "source": [
    "import pandas as pd\n",
    "from sklearn.model_selection  import train_test_split\n",
    "from sklearn.neighbors import KNeighborsClassifier\n",
    "from sklearn.metrics import classification_report, confusion_matrix"
   ]
  },
  {
   "cell_type": "code",
   "execution_count": 2,
   "metadata": {
    "tags": [
     "outputPrepend"
    ]
   },
   "outputs": [],
   "source": [
    "data = pd.read_csv(\"../data/guardian/knn_model/1122809848-100_train.csv\")\n",
    "\n",
    "x = data.iloc[:,1:]\n",
    "y = data.iloc[:,0:1].values.ravel()\n",
    "\n",
    "X_train, X_test, y_train, y_test = train_test_split(x, y, test_size = 0.20)"
   ]
  },
  {
   "cell_type": "markdown",
   "metadata": {},
   "source": [
    "## KNN"
   ]
  },
  {
   "cell_type": "markdown",
   "metadata": {},
   "source": [
    "## tarin"
   ]
  },
  {
   "cell_type": "code",
   "execution_count": 3,
   "metadata": {},
   "outputs": [
    {
     "name": "stdout",
     "output_type": "stream",
     "text": [
      "[[5483  107]\n",
      " [  32 5338]]\n",
      "              precision    recall  f1-score   support\n",
      "\n",
      "      attack       0.99      0.98      0.99      5590\n",
      "      normal       0.98      0.99      0.99      5370\n",
      "\n",
      "    accuracy                           0.99     10960\n",
      "   macro avg       0.99      0.99      0.99     10960\n",
      "weighted avg       0.99      0.99      0.99     10960\n",
      "\n"
     ]
    }
   ],
   "source": [
    "n_neighbors = 11\n",
    "neigh = KNeighborsClassifier(n_neighbors, weights='distance')\n",
    "neigh.fit(X_train, y_train)\n",
    "y_pred = neigh.predict(x)\n",
    "print(confusion_matrix(y,y_pred))\n",
    "print(classification_report(y,y_pred))"
   ]
  },
  {
   "cell_type": "markdown",
   "metadata": {},
   "source": [
    "## test"
   ]
  },
  {
   "cell_type": "code",
   "execution_count": 4,
   "metadata": {},
   "outputs": [
    {
     "name": "stdout",
     "output_type": "stream",
     "text": [
      "[[ 578   12]\n",
      " [ 788 9692]]\n",
      "              precision    recall  f1-score   support\n",
      "\n",
      "      attack       0.42      0.98      0.59       590\n",
      "      normal       1.00      0.92      0.96     10480\n",
      "\n",
      "    accuracy                           0.93     11070\n",
      "   macro avg       0.71      0.95      0.78     11070\n",
      "weighted avg       0.97      0.93      0.94     11070\n",
      "\n"
     ]
    }
   ],
   "source": [
    "data2 = pd.read_csv(\"../data/guardian/knn_model/1122809848-100_test.csv\")\n",
    "\n",
    "x2 = data2.iloc[:,1:]\n",
    "y2 = data2.iloc[:,0:1]\n",
    "\n",
    "y_pred = neigh.predict(x2)\n",
    "print(confusion_matrix(y2,y_pred))\n",
    "print(classification_report(y2,y_pred))"
   ]
  },
  {
   "cell_type": "code",
   "execution_count": null,
   "metadata": {},
   "outputs": [],
   "source": []
  }
 ],
 "metadata": {
  "interpreter": {
   "hash": "9b12d8e89bfe5f1d9564be7ce6131d8ea317c73289c3e98fd5ea3a30a393c6e1"
  },
  "kernelspec": {
   "display_name": "Python 3.7.11 64-bit ('guardian': conda)",
   "name": "python3"
  },
  "language_info": {
   "codemirror_mode": {
    "name": "ipython",
    "version": 3
   },
   "file_extension": ".py",
   "mimetype": "text/x-python",
   "name": "python",
   "nbconvert_exporter": "python",
   "pygments_lexer": "ipython3",
   "version": "3.6.13"
  },
  "orig_nbformat": 2
 },
 "nbformat": 4,
 "nbformat_minor": 2
}

{
 "cells": [
  {
   "cell_type": "code",
   "execution_count": 44,
   "metadata": {},
   "outputs": [],
   "source": [
    "import pandas as pd\n",
    "from sklearn.model_selection  import train_test_split\n",
    "from sklearn.neighbors import KNeighborsClassifier\n",
    "from sklearn.metrics import classification_report, confusion_matrix"
   ]
  },
  {
   "cell_type": "code",
   "execution_count": 45,
   "metadata": {
    "tags": [
     "outputPrepend"
    ]
   },
   "outputs": [],
   "source": [
    "data = pd.read_csv(\"../data/guardian/knn_model/1122809848-100_train.csv\")\n",
    "\n",
    "x = data.iloc[:,1:]\n",
    "y = data.iloc[:,0:1].values.ravel()\n",
    "\n",
    "X_train, X_test, y_train, y_test = train_test_split(x, y, test_size = 0.20)"
   ]
  },
  {
   "cell_type": "markdown",
   "metadata": {},
   "source": [
    "## KNN"
   ]
  },
  {
   "cell_type": "markdown",
   "metadata": {},
   "source": [
    "## tarin"
   ]
  },
  {
   "cell_type": "code",
   "execution_count": 46,
   "metadata": {},
   "outputs": [
    {
     "name": "stdout",
     "output_type": "stream",
     "text": [
      "[[5498   92]\n",
      " [  42 5328]]\n",
      "              precision    recall  f1-score   support\n",
      "\n",
      "      attack       0.99      0.98      0.99      5590\n",
      "      normal       0.98      0.99      0.99      5370\n",
      "\n",
      "    accuracy                           0.99     10960\n",
      "   macro avg       0.99      0.99      0.99     10960\n",
      "weighted avg       0.99      0.99      0.99     10960\n",
      "\n"
     ]
    }
   ],
   "source": [
    "n_neighbors = 11\n",
    "neigh = KNeighborsClassifier(n_neighbors, weights='distance')\n",
    "neigh.fit(X_train, y_train)\n",
    "y_pred = neigh.predict(x)\n",
    "print(confusion_matrix(y,y_pred))\n",
    "print(classification_report(y,y_pred))"
   ]
  },
  {
   "cell_type": "markdown",
   "metadata": {},
   "source": [
    "## test"
   ]
  },
  {
   "cell_type": "code",
   "execution_count": 48,
   "metadata": {},
   "outputs": [
    {
     "name": "stdout",
     "output_type": "stream",
     "text": [
      "[[ 579   11]\n",
      " [ 863 9617]]\n",
      "              precision    recall  f1-score   support\n",
      "\n",
      "      attack       0.40      0.98      0.57       590\n",
      "      normal       1.00      0.92      0.96     10480\n",
      "\n",
      "    accuracy                           0.92     11070\n",
      "   macro avg       0.70      0.95      0.76     11070\n",
      "weighted avg       0.97      0.92      0.94     11070\n",
      "\n"
     ]
    }
   ],
   "source": [
    "data2 = pd.read_csv(\"../data/guardian/knn_model/1122809848-100_test.csv\")\n",
    "\n",
    "x2 = data2.iloc[:,1:]\n",
    "y2 = data2.iloc[:,0:1]\n",
    "\n",
    "y_pred = neigh.predict(x2)\n",
    "print(confusion_matrix(y2,y_pred))\n",
    "print(classification_report(y2,y_pred))\n",
    "\n",
    "# x2 = data2.iloc[:,1:]\n",
    "# y2 = data2.iloc[:,0:1]\n",
    "# X_train, X_test, y_train, y_test = train_test_split(x2, y2, test_size = 0.20)\n",
    "\n",
    "# # Flatten y_train and y_test using ravel()\n",
    "# y_train = y_train.values.ravel()\n",
    "# y_test = y_test.values.ravel()\n",
    "\n",
    "# n_neighbors = 11\n",
    "# neigh = KNeighborsClassifier(n_neighbors, weights='distance')\n",
    "# neigh.fit(X_train, y_train)\n",
    "# y_pred = neigh.predict(x2)\n",
    "# print(confusion_matrix(y2,y_pred))\n",
    "# print(classification_report(y2,y_pred))"
   ]
  },
  {
   "cell_type": "code",
   "execution_count": 56,
   "metadata": {},
   "outputs": [
    {
     "name": "stdout",
     "output_type": "stream",
     "text": [
      "[[ 39  71]\n",
      " [ 14 376]]\n",
      "              precision    recall  f1-score   support\n",
      "\n",
      "      attack       0.74      0.35      0.48       110\n",
      "      normal       0.84      0.96      0.90       390\n",
      "\n",
      "    accuracy                           0.83       500\n",
      "   macro avg       0.79      0.66      0.69       500\n",
      "weighted avg       0.82      0.83      0.81       500\n",
      "\n",
      "              precision    recall  f1-score   support\n",
      "\n",
      "      attack       0.74      0.35      0.48       110\n",
      "      normal       0.84      0.96      0.90       390\n",
      "\n",
      "    accuracy                           0.83       500\n",
      "   macro avg       0.79      0.66      0.69       500\n",
      "weighted avg       0.82      0.83      0.81       500\n",
      "\n"
     ]
    }
   ],
   "source": [
    "# embedding 2_different\n",
    "# data2 = pd.read_csv(\"../data/guardian/knn_model/9121186002-100.csv\")\n",
    "data2 = pd.read_csv(\"../data/guardian/knn_model/5177547033-100.csv\")\n",
    "\n",
    "x2 = data2.iloc[:,1:]\n",
    "y2 = data2.iloc[:,0:1]\n",
    "\n",
    "y_pred = neigh.predict(x2)\n",
    "print(confusion_matrix(y2,y_pred))\n",
    "print(classification_report(y2,y_pred))\n",
    "\n",
    "# x2 = data2.iloc[:,1:]\n",
    "# y2 = data2.iloc[:,0:1]\n",
    "# X_train, X_test, y_train, y_test = train_test_split(x2, y2, test_size = 0.20)\n",
    "\n",
    "# # Flatten y_train and y_test using ravel()\n",
    "# y_train = y_train.values.ravel()\n",
    "# y_test = y_test.values.ravel()\n",
    "\n",
    "# n_neighbors = 11\n",
    "# neigh = KNeighborsClassifier(n_neighbors, weights='distance')\n",
    "# neigh.fit(X_train, y_train)\n",
    "# y_pred = neigh.predict(x2)\n",
    "# print(confusion_matrix(y2,y_pred))\n",
    "print(classification_report(y2,y_pred))"
   ]
  },
  {
   "cell_type": "code",
   "execution_count": 53,
   "metadata": {},
   "outputs": [
    {
     "name": "stdout",
     "output_type": "stream",
     "text": [
      "[[ 53  57]\n",
      " [ 43 347]]\n",
      "              precision    recall  f1-score   support\n",
      "\n",
      "      attack       0.55      0.48      0.51       110\n",
      "      normal       0.86      0.89      0.87       390\n",
      "\n",
      "    accuracy                           0.80       500\n",
      "   macro avg       0.71      0.69      0.69       500\n",
      "weighted avg       0.79      0.80      0.79       500\n",
      "\n"
     ]
    }
   ],
   "source": [
    "# embedding 2_same\n",
    "data2 = pd.read_csv(\"../data/guardian/knn_model/7546747849-100.csv\")\n",
    "\n",
    "x2 = data2.iloc[:,1:]\n",
    "y2 = data2.iloc[:,0:1]\n",
    "\n",
    "y_pred = neigh.predict(x2)\n",
    "print(confusion_matrix(y2,y_pred))\n",
    "print(classification_report(y2,y_pred))\n",
    "\n",
    "# x2 = data2.iloc[:,1:]\n",
    "# y2 = data2.iloc[:,0:1]\n",
    "# X_train, X_test, y_train, y_test = train_test_split(x2, y2, test_size = 0.20)\n",
    "\n",
    "# # Flatten y_train and y_test using ravel()\n",
    "# y_train = y_train.values.ravel()\n",
    "# y_test = y_test.values.ravel()\n",
    "\n",
    "# n_neighbors = 11\n",
    "# neigh = KNeighborsClassifier(n_neighbors, weights='distance')\n",
    "# neigh.fit(X_train, y_train)\n",
    "# y_pred = neigh.predict(x2)\n",
    "# print(confusion_matrix(y2,y_pred))\n",
    "# print(classification_report(y2,y_pred))\n"
   ]
  },
  {
   "cell_type": "code",
   "execution_count": 42,
   "metadata": {},
   "outputs": [
    {
     "name": "stdout",
     "output_type": "stream",
     "text": [
      "[[ 26  84]\n",
      " [ 13 377]]\n",
      "              precision    recall  f1-score   support\n",
      "\n",
      "      attack       0.67      0.24      0.35       110\n",
      "      normal       0.82      0.97      0.89       390\n",
      "\n",
      "    accuracy                           0.81       500\n",
      "   macro avg       0.74      0.60      0.62       500\n",
      "weighted avg       0.78      0.81      0.77       500\n",
      "\n"
     ]
    }
   ],
   "source": [
    "# embedding 2_random\n",
    "data2 = pd.read_csv(\"../data/guardian/knn_model/1987326526-100.csv\")\n",
    "\n",
    "x2 = data2.iloc[:,1:]\n",
    "y2 = data2.iloc[:,0:1]\n",
    "\n",
    "y_pred = neigh.predict(x2)\n",
    "print(confusion_matrix(y2,y_pred))\n",
    "print(classification_report(y2,y_pred))\n",
    "\n",
    "# x2 = data2.iloc[:,1:]\n",
    "# y2 = data2.iloc[:,0:1]\n",
    "# X_train, X_test, y_train, y_test = train_test_split(x2, y2, test_size = 0.20)\n",
    "\n",
    "# # Flatten y_train and y_test using ravel()\n",
    "# y_train = y_train.values.ravel()\n",
    "# y_test = y_test.values.ravel()\n",
    "\n",
    "# n_neighbors = 11\n",
    "# neigh = KNeighborsClassifier(n_neighbors, weights='distance')\n",
    "# neigh.fit(X_train, y_train)\n",
    "# y_pred = neigh.predict(x2)\n",
    "# print(confusion_matrix(y2,y_pred))\n",
    "# print(classification_report(y2,y_pred))"
   ]
  },
  {
   "cell_type": "code",
   "execution_count": 55,
   "metadata": {},
   "outputs": [
    {
     "name": "stdout",
     "output_type": "stream",
     "text": [
      "[[ 40  70]\n",
      " [  3 387]]\n",
      "              precision    recall  f1-score   support\n",
      "\n",
      "      attack       0.93      0.36      0.52       110\n",
      "      normal       0.85      0.99      0.91       390\n",
      "\n",
      "    accuracy                           0.85       500\n",
      "   macro avg       0.89      0.68      0.72       500\n",
      "weighted avg       0.87      0.85      0.83       500\n",
      "\n"
     ]
    }
   ],
   "source": [
    "# embedding unbalanced\n",
    "data_unbalanced = pd.read_csv(\"../data/guardian/knn_model/2037105578-100.csv\")\n",
    "\n",
    "x2 = data_unbalanced.iloc[:,1:]\n",
    "y2 = data_unbalanced.iloc[:,0:1]\n",
    "\n",
    "y_pred = neigh.predict(x2)\n",
    "print(confusion_matrix(y2,y_pred))\n",
    "print(classification_report(y2,y_pred))\n",
    "\n",
    "\n",
    "# x_un = data_unbalanced.iloc[:,1:]\n",
    "# y_un = data_unbalanced.iloc[:,0:1]\n",
    "# X_train_un, X_test_un, y_train_un, y_test_un = train_test_split(x_un, y_un, test_size = 0.20)\n",
    "\n",
    "# # Flatten y_train and y_test using ravel()\n",
    "# y_train_un = y_train_un.values.ravel()\n",
    "# y_test_un = y_test_un.values.ravel()\n",
    "\n",
    "# n_neighbors = 11\n",
    "# neigh = KNeighborsClassifier(n_neighbors, weights='distance')\n",
    "# neigh.fit(X_train_un, y_train_un)\n",
    "# y_pred_un = neigh.predict(x_un)\n",
    "# print(confusion_matrix(y_un,y_pred_un))\n",
    "# print(classification_report(y_un,y_pred_un))"
   ]
  },
  {
   "cell_type": "code",
   "execution_count": null,
   "metadata": {},
   "outputs": [],
   "source": []
  },
  {
   "cell_type": "code",
   "execution_count": null,
   "metadata": {},
   "outputs": [],
   "source": []
  },
  {
   "cell_type": "code",
   "execution_count": null,
   "metadata": {},
   "outputs": [],
   "source": []
  }
 ],
 "metadata": {
  "interpreter": {
   "hash": "9b12d8e89bfe5f1d9564be7ce6131d8ea317c73289c3e98fd5ea3a30a393c6e1"
  },
  "kernelspec": {
   "display_name": "python310",
   "language": "python",
   "name": "python310"
  },
  "language_info": {
   "codemirror_mode": {
    "name": "ipython",
    "version": 3
   },
   "file_extension": ".py",
   "mimetype": "text/x-python",
   "name": "python",
   "nbconvert_exporter": "python",
   "pygments_lexer": "ipython3",
   "version": "3.10.4"
  }
 },
 "nbformat": 4,
 "nbformat_minor": 4
}
